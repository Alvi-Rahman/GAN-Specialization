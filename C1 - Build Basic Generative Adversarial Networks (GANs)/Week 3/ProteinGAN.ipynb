{
  "nbformat": 4,
  "nbformat_minor": 0,
  "metadata": {
    "colab": {
      "name": "C1W3: ProteinGAN (Optional)",
      "provenance": [],
      "collapsed_sections": []
    },
    "kernelspec": {
      "name": "python3",
      "display_name": "Python 3"
    }
  },
  "cells": [
    {
      "cell_type": "markdown",
      "metadata": {
        "id": "ViSpF4I70O4b"
      },
      "source": [
        "# ProteinGAN: Generative Adversarial Network for Functional Protein Generation\r\n",
        "*Please note that this is an optional notebook that is meant to introduce more advanced concepts, if you're up for a challenge. So, don't worry if you don't completely follow every step! We provide external resources for extra base knowledge required to grasp some components of the advanced material.*\r\n",
        "\r\n",
        "[ProteinGAN](https://www.biorxiv.org/content/10.1101/789719v2) was developed by [Biomatters Designs](https://www.biomatterdesigns.com/) and [Zelezniak lab at Chalmers University of Technology](https://twitter.com/AZelezniak).\r\n",
        "\r\n",
        "## Goal\r\n",
        "The goal of this notebook is to demonstrate that core GAN ideas can be applied outside of the image domain. In this notebook, you will be able to play around with a pre-trained ProteinGAN model to see how it can be used in bioinformatics to generate functional molecules.\r\n"
      ]
    },
    {
      "cell_type": "markdown",
      "metadata": {
        "id": "q04P9icA8xIK"
      },
      "source": [
        "## Background\r\n",
        "\r\n",
        "\r\n",
        "### Proteins\r\n",
        "\r\n",
        "Proteins are large, complex molecules that play many critical roles in living organisms, including humans. You can think of them as very tiny, programmable robots used by nature to perform various functions, e.g. building, modifying or breaking down other molecules, aiding in cell replication and division, and transporting other proteins inside of cells. Apart from the crucial cellular functions, proteins are used virtually everywhere in our daily life, starting from animal nutrition and washing powders down to costly drugs and therapeutic antibodies. Using synthetic biology, protein engineering, adaptive evolutions experimental techniques, researchers enhance proteins' properties, making them more active or \"sticky\" towards a particular drug target or resistant to harsh environemental conditions. However, it is challenging to randomly modify proteins in a \"biochemically meaningful\" way such that protein would remain functional leading in a very costly time-consuming experiments. Thus generating natural-like diverse proteins that remain functional is of outstanding importance for biotechnology and biomedical applications. \r\n"
      ]
    },
    {
      "cell_type": "code",
      "metadata": {
        "colab": {
          "base_uri": "https://localhost:8080/",
          "height": 621
        },
        "id": "6BRDjqgjZgkg",
        "outputId": "3efcaa91-e185-4c4d-ae96-b39e727a6324"
      },
      "source": [
        "from IPython.display import YouTubeVideo\r\n",
        "YouTubeVideo('wJyUtbn0O5Y', start=75, end=80, autoplay=1, controls=0, loop=1, width=800, height=600)"
      ],
      "execution_count": 1,
      "outputs": [
        {
          "output_type": "execute_result",
          "data": {
            "text/html": [
              "\n",
              "        <iframe\n",
              "            width=\"800\"\n",
              "            height=\"600\"\n",
              "            src=\"https://www.youtube.com/embed/wJyUtbn0O5Y?start=75&end=80&autoplay=1&controls=0&loop=1\"\n",
              "            frameborder=\"0\"\n",
              "            allowfullscreen\n",
              "        ></iframe>\n",
              "        "
            ],
            "text/plain": [
              "<IPython.lib.display.YouTubeVideo at 0x7f40ac65fc88>"
            ],
            "image/jpeg": "[encoded data removed]"
          },
          "metadata": {
            "tags": []
          },
          "execution_count": 1
        }
      ]
    },
    {
      "cell_type": "markdown",
      "metadata": {
        "id": "rLPKgWGCZdL7"
      },
      "source": [
        "*Above, animation of motor protein responsible for transporting objects in cells*\r\n",
        "\r\n",
        "Source: https://www.youtube.com/watch?v=wJyUtbn0O5Y"
      ]
    },
    {
      "cell_type": "markdown",
      "metadata": {
        "id": "l2PDRSD4kDTR"
      },
      "source": [
        "\r\n",
        "Proteins, like images, can be represented in various ways on the computer. Images are represented as integers from 0 to 256 that indicate the intensity of red, green, or blue (RGB) color. Proteins, similarly, use letters to represent 20 unique amino acids, like the one below: \r\n",
        "\r\n",
        "> MKYATLLEYAFQALKNSYAPYSRFRVGAALLSDDGEVVTGCNVENASYGLSMCAERTAVFRAVAQGVKKFDAIAVVSGKVNPVYPCGACRQVLREFNPRLTVVVAGPGKKPLTTSLDKLLPKSFGKESLRRR\r\n",
        "\r\n",
        "Raw pixel RGB values are easy for computers to work with, though they are not very meaningful to the human eye, which is why they are displayed as images on the screen. Similarly, the sequence of amino acids is a compact, convenient representation of the actual molecule, while the more meaningful view of the protein molecule is its 3D structure. For an example, see [Cytidine deaminase](https://colab.research.google.com/drive/1O0_wyl3i-9F-5mDTlShaMfR2uOWHKwwE#scrollTo=Q277ab8R9WEU).\r\n",
        " \r\n",
        "For you to appreciate and reason about the outputs, you want your models (GANs) to ultimately produce meaningful structures. There are two important common features that make images and proteins both suitable candidates for GANs:\r\n",
        "\r\n",
        "* A random combination of building blocks, whether amino acids or pixels, will not produce a realistic outcomes. This means the GAN cannot simply guess! There are meaningful, realistic patterns of pixels and amino acids that it must model and generate.\r\n",
        "* The mathematical formula for how to evaluate the correctness of the generated item is unknown. For images, correctness is  \"realism\" -- how realistic does a generated image of a dog look? There's no math formula for that, so instead you have another model (the discriminator!) learn to assess that. The same goes for proteins.\r\n",
        "\r\n",
        "\r\n",
        "|         | Image      | Protein  |\r\n",
        "| ------- |:----------:| --------:|\r\n",
        "| Data type | integers from 0 to 256 | vocab of 20 amino acids |\r\n",
        "| Dimension| 2D | 1D|\r\n",
        "| Number of possible variants | $3*256^{size}$ |  $20^{length}$  |\r\n",
        "\r\n",
        " \r\n"
      ]
    },
    {
      "cell_type": "markdown",
      "metadata": {
        "id": "8huQi0yQ8qla"
      },
      "source": [
        "### ProteinGAN\r\n",
        " \r\n",
        "ProteinGAN is a generative adversarial network adapted to generate functional protein sequences. At its core, it consists of common building blocks: a discriminator and generator, spectral normalization (as in the [SN-GAN optional notebook](https://www.coursera.org/learn/build-basic-generative-adversarial-networks-gans/ungradedLab/c2FPs/optional-sn-gan)), and a loss function based on earth mover's distance (as in the [WGAN-GP assignment](https://www.coursera.org/learn/build-basic-generative-adversarial-networks-gans/programming/mTm3U/wgan)), etc. \r\n",
        "\r\n",
        "To make the GAN concept work in the field of synthetic biology, the generator and discriminator architectures have been modified to handle sequences of categorical values, capture long-distance relationships, as well as discriminate between various areas in the sequences. This is a major difference from pixel values in images and helps specifically with this type of long, categorical, and sequential data. One question to mull over: could this data processing and understanding help with generating text? \r\n",
        "\r\n",
        "\r\n",
        "**Data pre-processing.** The explored protein space is very unevenly distributed. Some proteins and their close variants are widely studied while others are just recorded in public databases. Without the balancing, the neural network mainly focuses on big clusters of similar well-studied sequences while treating unrepresented cluster members as anomalies. ProteinGAN has in-built upsampling capability to balance the dataset based on the size of the cluster in order to preserve the diversity of sequences.\r\n",
        "\r\n",
        "**Discrete values.** One of the biggest differences between images and proteins is the data type: while images consist of continuous values, proteins are built from discrete building blocks. To address this challenge for backpropagation, ProteinGAN employs the [Gumbel-Softmax trick with temperature](https://arxiv.org/abs/1611.01144), which serves as a differentiable approximation to sampling discrete data. This allows to end-to-end training of the discriminator and generator while operating in discrete input space. \r\n",
        "\r\n",
        "**Convergence.** GANs are known to be difficult to train due to stability issues. The discrete nature of the input further aggravates this problem. Despite the implementation of spectral normalization and WGAN loss, the optimization of ProteinGAN did not lead to convergence. However, as demonstrated in [this paper](https://arxiv.org/abs/1801.04406), training with zero-centered gradient penalties leads to improved training and guarantees local convergence even if data and generator distributions are not continuous. Adapting the implementation of [non-saturating loss with R1 regularization](https://arxiv.org/abs/1801.04406) greatly improves the performance of the GAN as demonstrated in the figure below.\r\n",
        "\r\n",
        "\r\n",
        "![Loss performance](https://drive.google.com/uc?export=view&id=1GBwiEm328DeLV29F7gUzUHP-o1uIYqSK)\r\n",
        "\r\n",
        "> *GAN performance in the first 35k steps using different losses. Model performances were measured using [BLOSUM45 scores](https://en.wikipedia.org/wiki/BLOSUM) (in the nutshell, similarity score which takes into account substitution probabilities of amino acids in known seuqences) against training sequences for the first 35,000 steps (average of 3 runs with different random seeds).*\r\n",
        "\r\n",
        "\r\n",
        "For more information please refer [ProteinGAN paper](https://www.biorxiv.org/content/10.1101/789719v2) "
      ]
    },
    {
      "cell_type": "markdown",
      "metadata": {
        "id": "scLQLcKcIeSS"
      },
      "source": [
        "## Setup"
      ]
    },
    {
      "cell_type": "code",
      "metadata": {
        "colab": {
          "base_uri": "https://localhost:8080/"
        },
        "id": "ogtiZDjSjiOJ",
        "outputId": "4553d94f-b8d6-4c20-fce5-e6990d513eb8"
      },
      "source": [
        "# Installing dependencies\r\n",
        "! pip install biopython\r\n",
        "! pip install py3Dmol\r\n",
        "! apt-get install -y clustalo"
      ],
      "execution_count": 2,
      "outputs": [
        {
          "output_type": "stream",
          "text": [
            "Collecting biopython\n",
            "\u001b[?25l  Downloading https://files.pythonhosted.org/packages/76/02/8b606c4aa92ff61b5eda71d23b499ab1de57d5e818be33f77b01a6f435a8/biopython-1.78-cp36-cp36m-manylinux1_x86_64.whl (2.3MB)\n",
            "\u001b[K     |████████████████████████████████| 2.3MB 10.0MB/s \n",
            "\u001b[?25hRequirement already satisfied: numpy in /usr/local/lib/python3.6/dist-packages (from biopython) (1.19.5)\n",
            "Installing collected packages: biopython\n",
            "Successfully installed biopython-1.78\n",
            "Collecting py3Dmol\n",
            "  Downloading https://files.pythonhosted.org/packages/dd/19/dd527b0db65e730e20c3d5e5a7efbb7fbbf8d98f9debfb47962c13f479d6/py3Dmol-0.9.1-py2.py3-none-any.whl\n",
            "Installing collected packages: py3Dmol\n",
            "Successfully installed py3Dmol-0.9.1\n",
            "Reading package lists... Done\n",
            "Building dependency tree       \n",
            "Reading state information... Done\n",
            "The following additional packages will be installed:\n",
            "  libargtable2-0\n",
            "The following NEW packages will be installed:\n",
            "  clustalo libargtable2-0\n",
            "0 upgraded, 2 newly installed, 0 to remove and 16 not upgraded.\n",
            "Need to get 276 kB of archives.\n",
            "After this operation, 683 kB of additional disk space will be used.\n",
            "Get:1 http://archive.ubuntu.com/ubuntu bionic/universe amd64 libargtable2-0 amd64 13-1 [13.6 kB]\n",
            "Get:2 http://archive.ubuntu.com/ubuntu bionic/universe amd64 clustalo amd64 1.2.4-1 [263 kB]\n",
            "Fetched 276 kB in 0s (3,107 kB/s)\n",
            "Selecting previously unselected package libargtable2-0.\n",
            "(Reading database ... 145483 files and directories currently installed.)\n",
            "Preparing to unpack .../libargtable2-0_13-1_amd64.deb ...\n",
            "Unpacking libargtable2-0 (13-1) ...\n",
            "Selecting previously unselected package clustalo.\n",
            "Preparing to unpack .../clustalo_1.2.4-1_amd64.deb ...\n",
            "Unpacking clustalo (1.2.4-1) ...\n",
            "Setting up libargtable2-0 (13-1) ...\n",
            "Setting up clustalo (1.2.4-1) ...\n",
            "Processing triggers for man-db (2.8.3-2ubuntu0.1) ...\n",
            "Processing triggers for libc-bin (2.27-3ubuntu1.2) ...\n",
            "/sbin/ldconfig.real: /usr/local/lib/python3.6/dist-packages/ideep4py/lib/libmkldnn.so.0 is not a symbolic link\n",
            "\n"
          ],
          "name": "stdout"
        }
      ]
    },
    {
      "cell_type": "code",
      "metadata": {
        "colab": {
          "base_uri": "https://localhost:8080/"
        },
        "id": "kEbt5Aq9YSyL",
        "outputId": "af4925a3-5c7c-4de7-cca4-9f86700b90d1"
      },
      "source": [
        "# Downloading pre-trained ProteinGAN model\r\n",
        "!gdown https://drive.google.com/uc?id=1BfDNgn3Hj2khPfkbjE8azY_yj19igb_n\r\n",
        "!unzip pre_trained_protein_gan.zip"
      ],
      "execution_count": 3,
      "outputs": [
        {
          "output_type": "stream",
          "text": [
            "Downloading...\n",
            "From: https://drive.google.com/uc?id=1BfDNgn3Hj2khPfkbjE8azY_yj19igb_n\n",
            "To: /content/pre_trained_protein_gan.zip\n",
            "466MB [00:03, 150MB/s]\n",
            "Archive:  pre_trained_protein_gan.zip\n",
            "   creating: pre_trained_protein_gan/\n",
            "  inflating: pre_trained_protein_gan/saved_model.pb  \n",
            "  inflating: pre_trained_protein_gan/train_rep.fasta  \n",
            "   creating: pre_trained_protein_gan/variables/\n",
            "  inflating: pre_trained_protein_gan/variables/variables.data-00000-of-00001  \n",
            "  inflating: pre_trained_protein_gan/variables/variables.index  \n"
          ],
          "name": "stdout"
        }
      ]
    },
    {
      "cell_type": "code",
      "metadata": {
        "id": "7F9vYRgXV2uf"
      },
      "source": [
        "# Helper methods\r\n",
        "import shutil\r\n",
        "\r\n",
        "from Bio.Blast import NCBIWWW\r\n",
        "from Bio.Blast import NCBIXML\r\n",
        "\r\n",
        "import numpy as np\r\n",
        "import pandas as pd\r\n",
        "\r\n",
        "import py3Dmol\r\n",
        "\r\n",
        "# A mapping between amino acids ids and their corresponding letters\r\n",
        "ID_TO_AMINO_ACID = {0: '0', 1: 'A', 2: 'C', 3: 'D', 4: 'E', 5: 'F', 6: 'G', 7: 'H', 8: 'I', 9: 'K', 10: 'L', 11: 'M', 12: 'N', 13: 'P', 14: 'Q', 15: 'R', 16: 'S', 17: 'T', 18: 'V', 19: 'W', 20: 'Y'}\r\n",
        "\r\n",
        "def to_seqs(model_output):\r\n",
        "  \"\"\"Takes ProteinGAN output and returns list of generated protein sequences\"\"\"\r\n",
        "  human_readable_seqs = []\r\n",
        "  seqs = model_output[\"prediction\"]\r\n",
        "  for i in range(len(seqs)):\r\n",
        "    human_readable_seq =\"\".join([ID_TO_AMINO_ACID[a] for a in seqs[i].numpy()])\r\n",
        "    human_readable_seq = human_readable_seq.replace(\"0\", \"\")\r\n",
        "    human_readable_seqs.append(human_readable_seq)\r\n",
        "  return human_readable_seqs\r\n",
        "\r\n",
        "def get_blast_results(seq):\r\n",
        "  \"\"\"Takes a protein sequence, calls BLAST server and returns parsed results\"\"\"\r\n",
        "  print(\"Calling BLAST server. This might take a while\")\r\n",
        "  r = NCBIWWW.qblast(\"blastp\", \"nr\", seq, hitlist_size = 5, expect=0.5, \r\n",
        "                     word_size=6, matrix_name=\"BLOSUM62\")\r\n",
        "  blast_record = NCBIXML.read(r)\r\n",
        "\r\n",
        "  to_df = []\r\n",
        "\r\n",
        "  for a in blast_record.alignments:\r\n",
        "    to_df.append({\"name\": a.hit_def,\"identity\": a.hsps[0].identities,\r\n",
        "                  \"subject\": a.hsps[0].sbjct})\r\n",
        "\r\n",
        "  return pd.DataFrame(to_df)\r\n",
        "\r\n",
        "def append_to_fasta(path, seqs, prefix):\r\n",
        "  \"\"\"Appends new sequences to existing file in FASTA format.\"\"\"\r\n",
        "  fasta = \"\"\r\n",
        "  for i, seq in enumerate(seqs):\r\n",
        "    fasta += f\">{prefix}_{i}\\n{seq}\\n\"\r\n",
        "  print(fasta, file=open(path, 'a'))\r\n",
        "\r\n",
        "def interpolate(starting, ending, steps):\r\n",
        "  \"\"\"\r\n",
        "  Interpolates between starting and end points. Steps parameter determines \r\n",
        "  how many interpolated points will be returned.\r\n",
        "  \"\"\"\r\n",
        "  points = [starting]\r\n",
        "  step = (ending-starting)/steps\r\n",
        "  for i in range(steps):\r\n",
        "    starting = starting + step\r\n",
        "    points.append(starting)\r\n",
        "  return np.asanyarray(points)"
      ],
      "execution_count": 4,
      "outputs": []
    },
    {
      "cell_type": "markdown",
      "metadata": {
        "id": "Q277ab8R9WEU"
      },
      "source": [
        "## Cytidine deaminase\r\n",
        "This demonstration will use a relatively small protein called *cytidine deaminase* for simplicity. Its function in organisms is essential to DNA and RNA degradation. **Our aim is to be able to create variants of this protein that exhibit different properties.**\r\n",
        " \r\n",
        "Below is an example of cytidine deaminase 3D structure.\r\n"
      ]
    },
    {
      "cell_type": "code",
      "metadata": {
        "colab": {
          "base_uri": "https://localhost:8080/",
          "height": 531
        },
        "id": "J7EFUwbbWy9X",
        "outputId": "e331bfdc-c591-41b9-eccb-c987c7c62011"
      },
      "source": [
        "view = py3Dmol.view(query='pdb:1UX1')\r\n",
        "view.setStyle({'cartoon':{'color':'spectrum'}})\r\n",
        "print(\"Cytidine deaminase\")\r\n",
        "view"
      ],
      "execution_count": 5,
      "outputs": [
        {
          "output_type": "stream",
          "text": [
            "Cytidine deaminase\n"
          ],
          "name": "stdout"
        },
        {
          "output_type": "display_data",
          "data": {
            "application/3dmoljs_load.v0": "<div id=\"3dmolviewer_1610692913097865\"  style=\"position: relative; width: 640px; height: 480px\">\n        <p id=\"3dmolwarning_1610692913097865\" style=\"background-color:#ffcccc;color:black\">You appear to be running in JupyterLab (or JavaScript failed to load for some other reason).  You need to install the 3dmol extension: <br>\n        <tt>jupyter labextension install jupyterlab_3dmol</tt></p>\n        </div>\n<script>\n\nvar loadScriptAsync = function(uri){\n  return new Promise((resolve, reject) => {\n    var tag = document.createElement('script');\n    tag.src = uri;\n    tag.async = true;\n    tag.onload = () => {\n      resolve();\n    };\n  var firstScriptTag = document.getElementsByTagName('script')[0];\n  firstScriptTag.parentNode.insertBefore(tag, firstScriptTag);\n});\n};\n\nif(typeof $3Dmolpromise === 'undefined') {\n$3Dmolpromise = null;\n  $3Dmolpromise = loadScriptAsync('https://3dmol.org/build/3Dmol.js');\n}\n\nvar viewer_1610692913097865 = null;\nvar warn = document.getElementById(\"3dmolwarning_1610692913097865\");\nif(warn) {\n    warn.parentNode.removeChild(warn);\n}\n$3Dmolpromise.then(function() {\nviewer_1610692913097865 = $3Dmol.createViewer($(\"#3dmolviewer_1610692913097865\"),{backgroundColor:\"white\"});\n$3Dmol.download(\"pdb:1UX1\", viewer_1610692913097865, {}, function() {\nviewer_1610692913097865.zoomTo();\n\tviewer_1610692913097865.setStyle({\"cartoon\": {\"color\": \"spectrum\"}});\nviewer_1610692913097865.render();\n})\n});\n</script>",
            "text/html": [
              "<div id=\"3dmolviewer_1610692913097865\"  style=\"position: relative; width: 640px; height: 480px\">\n",
              "        <p id=\"3dmolwarning_1610692913097865\" style=\"background-color:#ffcccc;color:black\">You appear to be running in JupyterLab (or JavaScript failed to load for some other reason).  You need to install the 3dmol extension: <br>\n",
              "        <tt>jupyter labextension install jupyterlab_3dmol</tt></p>\n",
              "        </div>\n",
              "<script>\n",
              "\n",
              "var loadScriptAsync = function(uri){\n",
              "  return new Promise((resolve, reject) => {\n",
              "    var tag = document.createElement('script');\n",
              "    tag.src = uri;\n",
              "    tag.async = true;\n",
              "    tag.onload = () => {\n",
              "      resolve();\n",
              "    };\n",
              "  var firstScriptTag = document.getElementsByTagName('script')[0];\n",
              "  firstScriptTag.parentNode.insertBefore(tag, firstScriptTag);\n",
              "});\n",
              "};\n",
              "\n",
              "if(typeof $3Dmolpromise === 'undefined') {\n",
              "$3Dmolpromise = null;\n",
              "  $3Dmolpromise = loadScriptAsync('https://3dmol.org/build/3Dmol.js');\n",
              "}\n",
              "\n",
              "var viewer_1610692913097865 = null;\n",
              "var warn = document.getElementById(\"3dmolwarning_1610692913097865\");\n",
              "if(warn) {\n",
              "    warn.parentNode.removeChild(warn);\n",
              "}\n",
              "$3Dmolpromise.then(function() {\n",
              "viewer_1610692913097865 = $3Dmol.createViewer($(\"#3dmolviewer_1610692913097865\"),{backgroundColor:\"white\"});\n",
              "$3Dmol.download(\"pdb:1UX1\", viewer_1610692913097865, {}, function() {\n",
              "viewer_1610692913097865.zoomTo();\n",
              "\tviewer_1610692913097865.setStyle({\"cartoon\": {\"color\": \"spectrum\"}});\n",
              "viewer_1610692913097865.render();\n",
              "})\n",
              "});\n",
              "</script>"
            ]
          },
          "metadata": {
            "tags": []
          }
        },
        {
          "output_type": "execute_result",
          "data": {
            "text/plain": [
              "<py3Dmol.view at 0x7f40abe41cf8>"
            ]
          },
          "metadata": {
            "tags": []
          },
          "execution_count": 5
        }
      ]
    },
    {
      "cell_type": "markdown",
      "metadata": {
        "id": "hy4cQXYSqe7X"
      },
      "source": [
        "## Random amino acid sequence\r\n",
        "\r\n",
        "Let's consider a very naive approach first: choosing amino acids at random. As mentioned before, only a very tiny portion of amino acids can make up a protein with a desired function. So... what are the odds?\r\n",
        " \r\n",
        "There are around 17k annotated sequences that are categorized as cytidine deaminase: [see here](https://www.uniprot.org/uniprot/?query=ec%3A3.5.4.5+taxonomy%3A%22Bacteria+%5B2%5D%22+length%3A%5B64+TO+256%5D&sort=score)\r\n",
        " \r\n",
        "The protein length varies depending on the organism, but let's say you want to generate 131 length cytidine deaminase. So there are:  $20^{131}$ possible combinations (just for comparison: there are ~ $10^{80}$ atoms in the observable universe!) \r\n",
        " \r\n",
        "It's safe to say that random sequences are unlikely to work. Even brute forcing all combinations is not an option. Nevertheless, let's try to generate a sequence to see what happens. :)\r\n"
      ]
    },
    {
      "cell_type": "code",
      "metadata": {
        "colab": {
          "base_uri": "https://localhost:8080/",
          "height": 35
        },
        "id": "5X5tLlgIucAR",
        "outputId": "cba0063e-d07c-4149-9dc6-53e90dea6a97"
      },
      "source": [
        "np.random.seed(42)\r\n",
        "random_seq = \"\".join(np.random.choice(list(ID_TO_AMINO_ACID.values())[1:], 131))\r\n",
        "random_seq"
      ],
      "execution_count": 6,
      "outputs": [
        {
          "output_type": "execute_result",
          "data": {
            "application/vnd.google.colaboratory.intrinsic+json": {
              "type": "string"
            },
            "text/plain": [
              "'HYRMIHWMMEIDCNGCANNTLSRRWNYDFWHKHVEQVKCYRHNIRDQTEVIECGLEVNCLEQSRIQISPVRPKRPAHKANIMWTIDDAFLHKHKINCASFDNIDADFRQDAFQHKRRLPWHTYEFHPRMEP'"
            ]
          },
          "metadata": {
            "tags": []
          },
          "execution_count": 6
        }
      ]
    },
    {
      "cell_type": "markdown",
      "metadata": {
        "id": "iwpDnHa7vLCv"
      },
      "source": [
        "Here, you see a 131 letter long amino acid sequence. It is hard to tell anything about this sequence only by looking. So instead, you can use a bioinformatics tool called Blast [(Basic Local Alignment Search Tool)](https://blast.ncbi.nlm.nih.gov/Blast.cgi) that searches a large database of known proteins to find the most similar matches. In most cases, a random sequence should not return any high-similarity results. \n",
        "\n",
        "If you do get anything returned, it should have a small _identity value_, which is the percentage of the sequence that matches. When the identity value is small, this means that only a small fragment of the sequence could be identified as a part of some random protein."
      ]
    },
    {
      "cell_type": "code",
      "metadata": {
        "colab": {
          "base_uri": "https://localhost:8080/",
          "height": 49
        },
        "id": "nBoKiboYvG73",
        "outputId": "3f1ca573-db91-453d-f96a-8c0e5ecbc5d9"
      },
      "source": [
        "get_blast_results(random_seq)"
      ],
      "execution_count": 7,
      "outputs": [
        {
          "output_type": "stream",
          "text": [
            "Calling BLAST server. This might take a while\n"
          ],
          "name": "stdout"
        },
        {
          "output_type": "execute_result",
          "data": {
            "text/html": [
              "<div>\n",
              "<style scoped>\n",
              "    .dataframe tbody tr th:only-of-type {\n",
              "        vertical-align: middle;\n",
              "    }\n",
              "\n",
              "    .dataframe tbody tr th {\n",
              "        vertical-align: top;\n",
              "    }\n",
              "\n",
              "    .dataframe thead th {\n",
              "        text-align: right;\n",
              "    }\n",
              "</style>\n",
              "<table border=\"1\" class=\"dataframe\">\n",
              "  <thead>\n",
              "    <tr style=\"text-align: right;\">\n",
              "      <th></th>\n",
              "    </tr>\n",
              "  </thead>\n",
              "  <tbody>\n",
              "  </tbody>\n",
              "</table>\n",
              "</div>"
            ],
            "text/plain": [
              "Empty DataFrame\n",
              "Columns: []\n",
              "Index: []"
            ]
          },
          "metadata": {
            "tags": []
          },
          "execution_count": 7
        }
      ]
    },
    {
      "cell_type": "markdown",
      "metadata": {
        "id": "_P-wnHQYjvqZ"
      },
      "source": [
        "## ProteinGAN sequences\r\n",
        "\r\n",
        "What if, instead, you train a GAN to generate desirable (realistic, reasonable, non-random) protein sequences? \r\n"
      ]
    },
    {
      "cell_type": "code",
      "metadata": {
        "id": "o6G2mA7vPVlc"
      },
      "source": [
        "import tensorflow as tf\r\n",
        "tf.random.set_seed(42)\r\n",
        "from absl import logging\r\n",
        "logging.set_verbosity(\"ERROR\")\r\n",
        "tf.get_logger().setLevel(\"ERROR\")\r\n",
        "\r\n",
        "# Loading pre-trained model.\r\n",
        "model = tf.saved_model.load(\"pre_trained_protein_gan/\").signatures[\"serving_default\"]"
      ],
      "execution_count": 8,
      "outputs": []
    },
    {
      "cell_type": "code",
      "metadata": {
        "colab": {
          "base_uri": "https://localhost:8080/",
          "height": 35
        },
        "id": "EbC5FmhhD1vI",
        "outputId": "e103bdda-1a15-4409-b6aa-cfdcbac5db87"
      },
      "source": [
        "# Choosing random points from latent space.\r\n",
        "noise = tf.random.truncated_normal([64, 128], stddev=0.5, dtype=tf.float32)\r\n",
        "\r\n",
        "# Feeding noise to generator to get an output.\r\n",
        "model_output = model(noise)\r\n",
        "\r\n",
        "# Model returns indices of amino acids. Here we convert them to actual letters.\r\n",
        "seqs = to_seqs(model_output)\r\n",
        "seqs[0]"
      ],
      "execution_count": 9,
      "outputs": [
        {
          "output_type": "execute_result",
          "data": {
            "application/vnd.google.colaboratory.intrinsic+json": {
              "type": "string"
            },
            "text/plain": [
              "'MDTQKLIEAAKKAMEKAHAPYSRFRVGAALRSESGSIHVGCNIENAAYPVGTCAEAGAIAAAIAAGETKIAELAVIADTKHPVSPCGGCRQKLAEFATGETRVYLCNLSGIRQETTVGDLLPLAFDKENLE'"
            ]
          },
          "metadata": {
            "tags": []
          },
          "execution_count": 9
        }
      ]
    },
    {
      "cell_type": "markdown",
      "metadata": {
        "id": "fk_9Nn7FxnG0"
      },
      "source": [
        "Again, not much can be said about the sequence just by looking at it (unless you're a protein savant). Time to run BLAST again!"
      ]
    },
    {
      "cell_type": "code",
      "metadata": {
        "colab": {
          "base_uri": "https://localhost:8080/",
          "height": 221
        },
        "id": "TLjZJMXmpaZx",
        "outputId": "c4f1a658-85e5-493b-8a6a-0ecd3afa8c8a"
      },
      "source": [
        "get_blast_results(seqs[0])"
      ],
      "execution_count": 10,
      "outputs": [
        {
          "output_type": "stream",
          "text": [
            "Calling BLAST server. This might take a while\n"
          ],
          "name": "stdout"
        },
        {
          "output_type": "execute_result",
          "data": {
            "text/html": [
              "<div>\n",
              "<style scoped>\n",
              "    .dataframe tbody tr th:only-of-type {\n",
              "        vertical-align: middle;\n",
              "    }\n",
              "\n",
              "    .dataframe tbody tr th {\n",
              "        vertical-align: top;\n",
              "    }\n",
              "\n",
              "    .dataframe thead th {\n",
              "        text-align: right;\n",
              "    }\n",
              "</style>\n",
              "<table border=\"1\" class=\"dataframe\">\n",
              "  <thead>\n",
              "    <tr style=\"text-align: right;\">\n",
              "      <th></th>\n",
              "      <th>name</th>\n",
              "      <th>identity</th>\n",
              "      <th>subject</th>\n",
              "    </tr>\n",
              "  </thead>\n",
              "  <tbody>\n",
              "    <tr>\n",
              "      <th>0</th>\n",
              "      <td>cytidine deaminase [Rhodobacteraceae bacterium]</td>\n",
              "      <td>83</td>\n",
              "      <td>LLDAARKVRENAYVPYSRFKVGAAIRTPSGAVHVGCNVENAAYPEG...</td>\n",
              "    </tr>\n",
              "    <tr>\n",
              "      <th>1</th>\n",
              "      <td>cytidine deaminase [Loktanella sp. DSM 29012] ...</td>\n",
              "      <td>82</td>\n",
              "      <td>DPHALIAAATDVRLNAHAPYSRFQVGAAIRGAGGAIHVGCNVENVA...</td>\n",
              "    </tr>\n",
              "    <tr>\n",
              "      <th>2</th>\n",
              "      <td>cytidine deaminase [Rhodobacteraceae bacterium]</td>\n",
              "      <td>79</td>\n",
              "      <td>LLEAATAVRENAYAPYSRFKVGAALRSTGGGVHVGCNVENVAYPEG...</td>\n",
              "    </tr>\n",
              "    <tr>\n",
              "      <th>3</th>\n",
              "      <td>cytidine deaminase [Salipiger marinus] &gt;emb|SD...</td>\n",
              "      <td>83</td>\n",
              "      <td>MSLADAARAVRENAYVPYSRFKVGAALRSASGAVYVGCNVENVAYP...</td>\n",
              "    </tr>\n",
              "    <tr>\n",
              "      <th>4</th>\n",
              "      <td>cytidine deaminase [Roseobacter sp. SK209-2-6]...</td>\n",
              "      <td>78</td>\n",
              "      <td>LKDAAHAVRENAHAPYSNFKVGAALRTPSGNVYVGCNVENVAYPEG...</td>\n",
              "    </tr>\n",
              "  </tbody>\n",
              "</table>\n",
              "</div>"
            ],
            "text/plain": [
              "                                                name  ...                                            subject\n",
              "0    cytidine deaminase [Rhodobacteraceae bacterium]  ...  LLDAARKVRENAYVPYSRFKVGAAIRTPSGAVHVGCNVENAAYPEG...\n",
              "1  cytidine deaminase [Loktanella sp. DSM 29012] ...  ...  DPHALIAAATDVRLNAHAPYSRFQVGAAIRGAGGAIHVGCNVENVA...\n",
              "2    cytidine deaminase [Rhodobacteraceae bacterium]  ...  LLEAATAVRENAYAPYSRFKVGAALRSTGGGVHVGCNVENVAYPEG...\n",
              "3  cytidine deaminase [Salipiger marinus] >emb|SD...  ...  MSLADAARAVRENAYVPYSRFKVGAALRSASGAVYVGCNVENVAYP...\n",
              "4  cytidine deaminase [Roseobacter sp. SK209-2-6]...  ...  LKDAAHAVRENAHAPYSNFKVGAALRTPSGNVYVGCNVENVAYPEG...\n",
              "\n",
              "[5 rows x 3 columns]"
            ]
          },
          "metadata": {
            "tags": []
          },
          "execution_count": 10
        }
      ]
    },
    {
      "cell_type": "markdown",
      "metadata": {
        "id": "fUKadK0Vx05y"
      },
      "source": [
        "Nice! This time, you got some matches that are either cytidine deaminase or other types of deaminase with a high indentity. This is a good indication that the GAN works well in generating realistic protein sequences."
      ]
    },
    {
      "cell_type": "markdown",
      "metadata": {
        "id": "JpAlWkRgvSJs"
      },
      "source": [
        "## Latent space\n",
        "\n",
        "As you already know, GANs learn to map points in the latent space to generated items. You can explore this latent space and perform a meaningful modifications to a generated item by moving in different directions. On generated faces, that might be changing hair color or adding sunglasses. Here, it's also to change something semantically meaningful, but for protein sequences.\n",
        "\n",
        "To start off, you can play with the diversity of generated sequences by changing how widely you sample the latent space. This can be achieved by modifying the standard deviation of the distribution. Let's try 0.1 and 1.0 to start!"
      ]
    },
    {
      "cell_type": "code",
      "metadata": {
        "id": "Ls7MUljzvRwG"
      },
      "source": [
        "# Generating sequences from points which are close to each other\r\n",
        "model_output = model(tf.random.truncated_normal([64, 128], stddev=0.1, dtype=tf.float32))\r\n",
        "small_var_seqs = to_seqs(model_output)\r\n",
        "\r\n",
        "# Generating sequences more distrbuted points\r\n",
        "model_output = model(tf.random.truncated_normal([64, 128], stddev=1.0, dtype=tf.float32))\r\n",
        "large_var_seqs = to_seqs(model_output)"
      ],
      "execution_count": 11,
      "outputs": []
    },
    {
      "cell_type": "code",
      "metadata": {
        "id": "J-Ns4dAgRYXh"
      },
      "source": [
        "# Creating fasta files which will be used for clustalo to calculate distances\r\n",
        "#pre_trained_protein_gan/train_rep.fasta - contains some representative sequences of training dataset\r\n",
        "shutil.copy(\"pre_trained_protein_gan/train_rep.fasta\",\"sequences.fasta\")\r\n",
        "#Appending generated sequences to training sequences\r\n",
        "append_to_fasta(\"sequences.fasta\", small_var_seqs, \"small_var\")\r\n",
        "append_to_fasta(\"sequences.fasta\", large_var_seqs, \"large_var\")"
      ],
      "execution_count": 12,
      "outputs": []
    },
    {
      "cell_type": "markdown",
      "metadata": {
        "id": "xiykPRgYh4OC"
      },
      "source": [
        "[Clustalo](http://www.clustal.org/omega/) is a bioinformatics tool for biological sequence alignment and comparison that calculates the edit distances between multiple strings, taking into account that some letters are more similar than others biologically. You can use it to calculate all-to-all distances from different protein sequence sets - training representatives, sequences generated using low and high standard deviation."
      ]
    },
    {
      "cell_type": "code",
      "metadata": {
        "colab": {
          "base_uri": "https://localhost:8080/"
        },
        "id": "7D-4DqB_FcV1",
        "outputId": "68aa31bc-abd3-4dc5-8b81-e11c25f72e25"
      },
      "source": [
        "! clustalo -i sequences.fasta -o fasta.aln --threads=2 -v --full --distmat-out=dist_out.dist --force"
      ],
      "execution_count": 13,
      "outputs": [
        {
          "output_type": "stream",
          "text": [
            "Using 2 threads\n",
            "Read 484 sequences (type: Protein) from sequences.fasta\n",
            "Calculating pairwise ktuple-distances...\n",
            "Pairwise distance matrix written to dist_out.dist\n",
            "Ktuple-distance calculation progress done. CPU time: 7.50u 0.02s 00:00:07.52 Elapsed: 00:00:04\n",
            "Guide-tree computation done.\n",
            "Progressive alignment progress done. CPU time: 18.74u 0.61s 00:00:19.34 Elapsed: 00:00:10\n",
            "Alignment written to fasta.aln\n"
          ],
          "name": "stdout"
        }
      ]
    },
    {
      "cell_type": "code",
      "metadata": {
        "id": "NIm7_vnPcKe4"
      },
      "source": [
        "from sklearn.manifold import TSNE\r\n",
        "\r\n",
        "#Loading calculated distances\r\n",
        "distance_matrix = pd.read_csv(\"dist_out.dist\", delimiter='\\s+', skiprows=[0],header=None,index_col=0)\r\n",
        "distance_matrix.columns = distance_matrix.index.values\r\n",
        "\r\n",
        "#Using TSNE to compress all pair wise distances between sequences into two components which then could be plotted.\r\n",
        "tsne = TSNE(n_components=2, metric='precomputed')\r\n",
        "coordinates_2d = tsne.fit_transform(distance_matrix.values)"
      ],
      "execution_count": 14,
      "outputs": []
    },
    {
      "cell_type": "code",
      "metadata": {
        "colab": {
          "base_uri": "https://localhost:8080/",
          "height": 483
        },
        "id": "a9gIgVbNJrBW",
        "outputId": "4b19ed8d-12bc-4c8d-f22a-d4efce635d3c"
      },
      "source": [
        "from matplotlib import pyplot as plt\r\n",
        "\r\n",
        "\r\n",
        "# Plotting train representatives and generated sequences with different diversity\r\n",
        "plt.figure(figsize=(12, 8))\r\n",
        "plt.scatter(coordinates_2d[:-128,0], coordinates_2d[:-128,1], c=\"green\", label=\"Train representative sequences\", alpha=0.5, s=30)\r\n",
        "small_var_el = distance_matrix.index.str.contains(\"small_var\")\r\n",
        "plt.scatter(coordinates_2d[small_var_el,0], coordinates_2d[small_var_el,1], c=\"orange\", label=\"Generated sequences with 0.1 standard deviation\")\r\n",
        "large_var_el = distance_matrix.index.str.contains(\"large_var\")\r\n",
        "plt.scatter(coordinates_2d[large_var_el,0], coordinates_2d[large_var_el,1], c=\"red\", label=\"Generated sequences with 1.0 standard deviation \")\r\n",
        "plt.legend()\r\n",
        "plt.show()"
      ],
      "execution_count": 15,
      "outputs": [
        {
          "output_type": "display_data",
          "data": {
            "image/png": "[encoded data removed]",
            "text/plain": [
              "<Figure size 864x576 with 1 Axes>"
            ]
          },
          "metadata": {
            "tags": [],
            "needs_background": "light"
          }
        }
      ]
    },
    {
      "cell_type": "markdown",
      "metadata": {
        "id": "nSFhBtY3NhQR"
      },
      "source": [
        "As expected, oranges sequences are more similar to each other than the red ones. "
      ]
    },
    {
      "cell_type": "markdown",
      "metadata": {
        "id": "Y62ZHV1SUqYA"
      },
      "source": [
        "### Controlling biological properties\r\n",
        "\r\n",
        "After generating realistic sequences, you want to be able to control their properties. As with images, it's possible to find a direction in the latent space that will change a specific property of the generated outcome. Here, you can vary values of the 100th dimension and measure the molecular weight of generated sequences. You'll use the [biopython](https://biopython.org/) library to calculate the molecule's weight. "
      ]
    },
    {
      "cell_type": "code",
      "metadata": {
        "id": "i3osQT59e-JT"
      },
      "source": [
        "from scipy.stats import pearsonr\r\n",
        "from Bio.SeqUtils.ProtParam import ProteinAnalysis\r\n",
        "\r\n",
        "# Changing the values of 100th dimension from -1.0 to 1.0\r\n",
        "d = 99 \r\n",
        "starting = np.zeros([128])\r\n",
        "starting[d] = -1.0\r\n",
        "ending = np.zeros([128])\r\n",
        "ending[d] = 1.0\r\n",
        "points = interpolate(starting, ending, 1023)\r\n",
        "\r\n",
        "seqs = []\r\n",
        "for i in range(0, 1024, 64):\r\n",
        "  model_output = model(tf.constant(points[i:i+64], tf.float32))\r\n",
        "  seqs.extend(to_seqs(model_output))"
      ],
      "execution_count": 16,
      "outputs": []
    },
    {
      "cell_type": "markdown",
      "metadata": {
        "id": "dNvRNj2vVTFh"
      },
      "source": [
        "Then, you can calculate the molecular weight of each sequence and calculate the correlation with latent space direction."
      ]
    },
    {
      "cell_type": "code",
      "metadata": {
        "colab": {
          "base_uri": "https://localhost:8080/"
        },
        "id": "mmxAP-WwUZ8q",
        "outputId": "af16cb8b-c98f-43c3-9ed1-38940fbd77e9"
      },
      "source": [
        "w = [ProteinAnalysis(s).molecular_weight() for s in seqs] \r\n",
        "pearsonr(w, points[:,d])"
      ],
      "execution_count": 17,
      "outputs": [
        {
          "output_type": "execute_result",
          "data": {
            "text/plain": [
              "(0.8280497565882994, 4.421404632364171e-259)"
            ]
          },
          "metadata": {
            "tags": []
          },
          "execution_count": 17
        }
      ]
    },
    {
      "cell_type": "code",
      "metadata": {
        "colab": {
          "base_uri": "https://localhost:8080/",
          "height": 504
        },
        "id": "JHeiy1y9hFfp",
        "outputId": "f692b52f-8ba7-476c-a235-8d8129fe04a2"
      },
      "source": [
        "plt.figure(figsize=(16, 8))\r\n",
        "plt.scatter(points[:,d], w, c = 'b', s = 20, label = 'Molecule weight')\r\n",
        "plt.xlabel(\"Latent dimension value\", fontsize = 15)\r\n",
        "plt.ylabel(\"Molecular weight\", fontsize = 15)\r\n",
        "plt.legend(fontsize = 14)\r\n",
        "plt.grid(True)\r\n",
        "plt.show()"
      ],
      "execution_count": 18,
      "outputs": [
        {
          "output_type": "display_data",
          "data": {
            "image/png": "[encoded data removed]",
            "text/plain": [
              "<Figure size 1152x576 with 1 Axes>"
            ]
          },
          "metadata": {
            "tags": [],
            "needs_background": "light"
          }
        }
      ]
    },
    {
      "cell_type": "markdown",
      "metadata": {
        "id": "937OnQVxVjKh"
      },
      "source": [
        "Of course, this is a very simplistic example; it is a good illustrative example of how latent space can be explored.\r\n",
        "\r\n",
        "\r\n",
        "## Summary\r\n",
        "\r\n",
        "In summary, you have learned about:\r\n",
        "\r\n",
        "* Proteins as non-random sequences of 20 amino acids (aa) that nature has tweaked over billions of years of evolution to drive essential life processes;\r\n",
        "\r\n",
        "*  ProteinGAN and its technical features outlining the challenges of learning long-biological sequences such as proteins;\r\n",
        "\r\n",
        "* Generating random protein sequences from a family of cytidine deaminases using a generator from a pre-trained ProteinGAN model;\r\n",
        "\r\n",
        "* Visualizing biological sequences using sequence alignments and dimensionality reduction;\r\n",
        "\r\n",
        "* Exploring latent space dimensions and connecting it with physicochemical properties of generated proteins.\r\n",
        "\r\n"
      ]
    },
    {
      "cell_type": "markdown",
      "metadata": {
        "id": "_kH5E53bgFGC"
      },
      "source": [
        "## Author's Contribution\r\n",
        "\r\n",
        "[Donatas Repečka](https://www.linkedin.com/in/donatasrep/) (Biomatter Designs) was responsible for the notebook's content and design; \r\n",
        "\r\n",
        "[Aleksej Zelezniak](https://twitter.com/AZelezniak)  (Zelezniak lab at Chalmers University of Technology) gave input into summarizing and editing the text.\r\n",
        "\r\n",
        "## Acknowledgment\r\n",
        "The authors would like to thank [Biomatter Designs](https://www.biomatterdesigns.com/) and [DeepLearning.AI](https://www.deeplearning.ai/) teams for their comments and insightful suggestions:\r\n",
        "\r\n",
        "* [Vykintas Jauniškis](https://www.linkedin.com/in/vykintas-jauniskis/) (Biomatter Designs);\r\n",
        "* [Laurynas Karpus](https://www.linkedin.com/in/laurynaskarpus/) (Biomatter Designs);\r\n",
        "* [Audrius Laurynėnas](https://www.linkedin.com/in/audrius-lauryn%C4%97nas-307687b2/) (Biomatter Designs);\r\n",
        "* [Aurimas Repečka](https://www.linkedin.com/in/aurimas-repe%C4%8Dka-23064ab2/) (Biomatter Designs);\r\n",
        "* [Irmantas Rokaitis](https://www.linkedin.com/in/irmantas-rokaitis-52336b18b/) (Biomatter Designs);\r\n",
        "* [Audronė Valančiūtė](https://www.linkedin.com/in/audron%C4%97-valan%C4%8Di%C5%ABt%C4%97-730785158/) (Biomatter Designs);\r\n",
        "* [Antanas Žilakauskis](https://www.linkedin.com/in/zilakauskis95/) (Biomatter Designs).\r\n"
      ]
    }
  ]
}